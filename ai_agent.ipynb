{
 "cells": [
  {
   "cell_type": "code",
   "execution_count": 2,
   "id": "cda24265-6757-4f6e-93e7-cb46f3bb1ca5",
   "metadata": {
    "scrolled": true
   },
   "outputs": [
    {
     "name": "stdout",
     "output_type": "stream",
     "text": [
      "Collecting datasets\n",
      "  Downloading datasets-2.19.1-py3-none-any.whl.metadata (19 kB)\n",
      "Requirement already satisfied: filelock in d:\\programfiles\\miniconda\\lib\\site-packages (from datasets) (3.14.0)\n",
      "Requirement already satisfied: numpy>=1.17 in d:\\programfiles\\miniconda\\lib\\site-packages (from datasets) (1.26.4)\n",
      "Collecting pyarrow>=12.0.0 (from datasets)\n",
      "  Downloading pyarrow-16.1.0-cp312-cp312-win_amd64.whl.metadata (3.1 kB)\n",
      "Collecting pyarrow-hotfix (from datasets)\n",
      "  Downloading pyarrow_hotfix-0.6-py3-none-any.whl.metadata (3.6 kB)\n",
      "Requirement already satisfied: dill<0.3.9,>=0.3.0 in d:\\programfiles\\miniconda\\lib\\site-packages (from datasets) (0.3.8)\n",
      "Requirement already satisfied: pandas in d:\\programfiles\\miniconda\\lib\\site-packages (from datasets) (2.2.2)\n",
      "Requirement already satisfied: requests>=2.19.0 in d:\\programfiles\\miniconda\\lib\\site-packages (from datasets) (2.31.0)\n",
      "Requirement already satisfied: tqdm>=4.62.1 in d:\\programfiles\\miniconda\\lib\\site-packages (from datasets) (4.65.0)\n",
      "Collecting xxhash (from datasets)\n",
      "  Downloading xxhash-3.4.1-cp312-cp312-win_amd64.whl.metadata (12 kB)\n",
      "Collecting multiprocess (from datasets)\n",
      "  Downloading multiprocess-0.70.16-py312-none-any.whl.metadata (7.2 kB)\n",
      "Requirement already satisfied: fsspec<=2024.3.1,>=2023.1.0 in d:\\programfiles\\miniconda\\lib\\site-packages (from fsspec[http]<=2024.3.1,>=2023.1.0->datasets) (2023.12.2)\n",
      "Requirement already satisfied: aiohttp in d:\\programfiles\\miniconda\\lib\\site-packages (from datasets) (3.9.5)\n",
      "Collecting huggingface-hub>=0.21.2 (from datasets)\n",
      "  Downloading huggingface_hub-0.23.2-py3-none-any.whl.metadata (12 kB)\n",
      "Requirement already satisfied: packaging in d:\\programfiles\\miniconda\\lib\\site-packages (from datasets) (24.0)\n",
      "Requirement already satisfied: pyyaml>=5.1 in d:\\programfiles\\miniconda\\lib\\site-packages (from datasets) (6.0.1)\n",
      "Requirement already satisfied: aiosignal>=1.1.2 in d:\\programfiles\\miniconda\\lib\\site-packages (from aiohttp->datasets) (1.3.1)\n",
      "Requirement already satisfied: attrs>=17.3.0 in d:\\programfiles\\miniconda\\lib\\site-packages (from aiohttp->datasets) (23.2.0)\n",
      "Requirement already satisfied: frozenlist>=1.1.1 in d:\\programfiles\\miniconda\\lib\\site-packages (from aiohttp->datasets) (1.4.1)\n",
      "Requirement already satisfied: multidict<7.0,>=4.5 in d:\\programfiles\\miniconda\\lib\\site-packages (from aiohttp->datasets) (6.0.5)\n",
      "Requirement already satisfied: yarl<2.0,>=1.0 in d:\\programfiles\\miniconda\\lib\\site-packages (from aiohttp->datasets) (1.9.4)\n",
      "Requirement already satisfied: typing-extensions>=3.7.4.3 in d:\\programfiles\\miniconda\\lib\\site-packages (from huggingface-hub>=0.21.2->datasets) (4.11.0)\n",
      "Requirement already satisfied: charset-normalizer<4,>=2 in d:\\programfiles\\miniconda\\lib\\site-packages (from requests>=2.19.0->datasets) (3.3.2)\n",
      "Requirement already satisfied: idna<4,>=2.5 in d:\\programfiles\\miniconda\\lib\\site-packages (from requests>=2.19.0->datasets) (3.7)\n",
      "Requirement already satisfied: urllib3<3,>=1.21.1 in d:\\programfiles\\miniconda\\lib\\site-packages (from requests>=2.19.0->datasets) (2.2.1)\n",
      "Requirement already satisfied: certifi>=2017.4.17 in d:\\programfiles\\miniconda\\lib\\site-packages (from requests>=2.19.0->datasets) (2024.2.2)\n",
      "Requirement already satisfied: colorama in d:\\programfiles\\miniconda\\lib\\site-packages (from tqdm>=4.62.1->datasets) (0.4.6)\n",
      "Requirement already satisfied: python-dateutil>=2.8.2 in d:\\programfiles\\miniconda\\lib\\site-packages (from pandas->datasets) (2.9.0.post0)\n",
      "Requirement already satisfied: pytz>=2020.1 in d:\\programfiles\\miniconda\\lib\\site-packages (from pandas->datasets) (2024.1)\n",
      "Requirement already satisfied: tzdata>=2022.7 in d:\\programfiles\\miniconda\\lib\\site-packages (from pandas->datasets) (2024.1)\n",
      "Requirement already satisfied: six>=1.5 in d:\\programfiles\\miniconda\\lib\\site-packages (from python-dateutil>=2.8.2->pandas->datasets) (1.16.0)\n",
      "Downloading datasets-2.19.1-py3-none-any.whl (542 kB)\n",
      "   ---------------------------------------- 0.0/542.0 kB ? eta -:--:--\n",
      "   --------------------- ------------------ 286.7/542.0 kB 8.9 MB/s eta 0:00:01\n",
      "   ---------------------------------------- 542.0/542.0 kB 6.8 MB/s eta 0:00:00\n",
      "Downloading huggingface_hub-0.23.2-py3-none-any.whl (401 kB)\n",
      "   ---------------------------------------- 0.0/401.7 kB ? eta -:--:--\n",
      "   --------------------------------------  399.4/401.7 kB 12.6 MB/s eta 0:00:01\n",
      "   --------------------------------------- 401.7/401.7 kB 12.6 MB/s eta 0:00:00\n",
      "Downloading pyarrow-16.1.0-cp312-cp312-win_amd64.whl (25.8 MB)\n",
      "   ---------------------------------------- 0.0/25.8 MB ? eta -:--:--\n",
      "   - -------------------------------------- 0.8/25.8 MB 24.8 MB/s eta 0:00:02\n",
      "   -- ------------------------------------- 1.4/25.8 MB 18.2 MB/s eta 0:00:02\n",
      "   --- ------------------------------------ 2.1/25.8 MB 17.0 MB/s eta 0:00:02\n",
      "   ---- ----------------------------------- 2.7/25.8 MB 17.3 MB/s eta 0:00:02\n",
      "   ----- ---------------------------------- 3.5/25.8 MB 15.9 MB/s eta 0:00:02\n",
      "   ------ --------------------------------- 4.2/25.8 MB 16.7 MB/s eta 0:00:02\n",
      "   ------- -------------------------------- 4.6/25.8 MB 15.4 MB/s eta 0:00:02\n",
      "   ------- -------------------------------- 4.6/25.8 MB 14.7 MB/s eta 0:00:02\n",
      "   ------- -------------------------------- 4.9/25.8 MB 12.1 MB/s eta 0:00:02\n",
      "   -------- ------------------------------- 5.2/25.8 MB 11.5 MB/s eta 0:00:02\n",
      "   -------- ------------------------------- 5.5/25.8 MB 11.0 MB/s eta 0:00:02\n",
      "   -------- ------------------------------- 5.7/25.8 MB 10.7 MB/s eta 0:00:02\n",
      "   --------- ------------------------------ 5.9/25.8 MB 10.0 MB/s eta 0:00:02\n",
      "   --------- ------------------------------ 6.2/25.8 MB 9.9 MB/s eta 0:00:02\n",
      "   --------- ------------------------------ 6.4/25.8 MB 9.5 MB/s eta 0:00:03\n",
      "   ---------- ----------------------------- 6.9/25.8 MB 9.5 MB/s eta 0:00:02\n",
      "   ----------- ---------------------------- 7.3/25.8 MB 9.5 MB/s eta 0:00:02\n",
      "   ------------ --------------------------- 7.8/25.8 MB 9.6 MB/s eta 0:00:02\n",
      "   ------------ --------------------------- 8.3/25.8 MB 9.7 MB/s eta 0:00:02\n",
      "   ------------- -------------------------- 8.7/25.8 MB 9.8 MB/s eta 0:00:02\n",
      "   -------------- ------------------------- 9.2/25.8 MB 9.8 MB/s eta 0:00:02\n",
      "   -------------- ------------------------- 9.6/25.8 MB 9.9 MB/s eta 0:00:02\n",
      "   --------------- ------------------------ 10.2/25.8 MB 10.0 MB/s eta 0:00:02\n",
      "   ---------------- ----------------------- 10.6/25.8 MB 9.8 MB/s eta 0:00:02\n",
      "   ----------------- ---------------------- 11.1/25.8 MB 9.6 MB/s eta 0:00:02\n",
      "   ----------------- ---------------------- 11.5/25.8 MB 9.5 MB/s eta 0:00:02\n",
      "   ------------------ --------------------- 12.0/25.8 MB 9.2 MB/s eta 0:00:02\n",
      "   ------------------ --------------------- 12.3/25.8 MB 9.0 MB/s eta 0:00:02\n",
      "   ------------------- -------------------- 12.7/25.8 MB 8.8 MB/s eta 0:00:02\n",
      "   -------------------- ------------------- 13.2/25.8 MB 8.8 MB/s eta 0:00:02\n",
      "   --------------------- ------------------ 13.7/25.8 MB 8.8 MB/s eta 0:00:02\n",
      "   ---------------------- ----------------- 14.2/25.8 MB 8.6 MB/s eta 0:00:02\n",
      "   ---------------------- ----------------- 14.7/25.8 MB 8.7 MB/s eta 0:00:02\n",
      "   ----------------------- ---------------- 15.3/25.8 MB 9.6 MB/s eta 0:00:02\n",
      "   ------------------------ --------------- 15.7/25.8 MB 9.6 MB/s eta 0:00:02\n",
      "   ------------------------- -------------- 16.3/25.8 MB 10.6 MB/s eta 0:00:01\n",
      "   ------------------------- -------------- 16.6/25.8 MB 10.7 MB/s eta 0:00:01\n",
      "   -------------------------- ------------- 17.2/25.8 MB 11.1 MB/s eta 0:00:01\n",
      "   --------------------------- ------------ 18.0/25.8 MB 11.3 MB/s eta 0:00:01\n",
      "   ---------------------------- ----------- 18.7/25.8 MB 11.7 MB/s eta 0:00:01\n",
      "   ----------------------------- ---------- 19.3/25.8 MB 11.7 MB/s eta 0:00:01\n",
      "   ------------------------------ --------- 20.0/25.8 MB 11.9 MB/s eta 0:00:01\n",
      "   ------------------------------- -------- 20.6/25.8 MB 12.4 MB/s eta 0:00:01\n",
      "   --------------------------------- ------ 21.4/25.8 MB 12.6 MB/s eta 0:00:01\n",
      "   --------------------------------- ------ 21.8/25.8 MB 12.6 MB/s eta 0:00:01\n",
      "   ---------------------------------- ----- 22.5/25.8 MB 13.4 MB/s eta 0:00:01\n",
      "   ----------------------------------- ---- 23.0/25.8 MB 13.4 MB/s eta 0:00:01\n",
      "   ----------------------------------- ---- 23.2/25.8 MB 13.1 MB/s eta 0:00:01\n",
      "   ------------------------------------ --- 23.3/25.8 MB 12.6 MB/s eta 0:00:01\n",
      "   ------------------------------------ --- 23.5/25.8 MB 12.1 MB/s eta 0:00:01\n",
      "   ------------------------------------ --- 23.8/25.8 MB 11.7 MB/s eta 0:00:01\n",
      "   ------------------------------------- -- 24.3/25.8 MB 11.7 MB/s eta 0:00:01\n",
      "   -------------------------------------- - 25.1/25.8 MB 11.9 MB/s eta 0:00:01\n",
      "   ---------------------------------------  25.7/25.8 MB 11.9 MB/s eta 0:00:01\n",
      "   ---------------------------------------  25.8/25.8 MB 12.4 MB/s eta 0:00:01\n",
      "   ---------------------------------------- 25.8/25.8 MB 11.5 MB/s eta 0:00:00\n",
      "Downloading multiprocess-0.70.16-py312-none-any.whl (146 kB)\n",
      "   ---------------------------------------- 0.0/146.7 kB ? eta -:--:--\n",
      "   ---------------------------------------- 146.7/146.7 kB 8.5 MB/s eta 0:00:00\n",
      "Downloading pyarrow_hotfix-0.6-py3-none-any.whl (7.9 kB)\n",
      "Downloading xxhash-3.4.1-cp312-cp312-win_amd64.whl (29 kB)\n",
      "Installing collected packages: xxhash, pyarrow-hotfix, pyarrow, multiprocess, huggingface-hub, datasets\n",
      "Successfully installed datasets-2.19.1 huggingface-hub-0.23.2 multiprocess-0.70.16 pyarrow-16.1.0 pyarrow-hotfix-0.6 xxhash-3.4.1\n"
     ]
    }
   ],
   "source": [
    "!pip install datasets"
   ]
  },
  {
   "cell_type": "code",
   "execution_count": 4,
   "id": "147ea136-686e-4c1c-bb2b-577b0a292704",
   "metadata": {},
   "outputs": [],
   "source": [
    "import pandas as pd\n",
    "import numpy as np"
   ]
  },
  {
   "cell_type": "code",
   "execution_count": 7,
   "id": "8dfe1065-e0fc-4880-955a-f164981138ef",
   "metadata": {},
   "outputs": [],
   "source": [
    "from datasets import load_dataset\n",
    "\n",
    "dataset = load_dataset(\"rotten_tomatoes\")"
   ]
  },
  {
   "cell_type": "code",
   "execution_count": 8,
   "id": "7ed643f1-f21f-46d0-a213-f9bc338b81eb",
   "metadata": {},
   "outputs": [
    {
     "data": {
      "text/plain": [
       "DatasetDict({\n",
       "    train: Dataset({\n",
       "        features: ['text', 'label'],\n",
       "        num_rows: 8530\n",
       "    })\n",
       "    validation: Dataset({\n",
       "        features: ['text', 'label'],\n",
       "        num_rows: 1066\n",
       "    })\n",
       "    test: Dataset({\n",
       "        features: ['text', 'label'],\n",
       "        num_rows: 1066\n",
       "    })\n",
       "})"
      ]
     },
     "execution_count": 8,
     "metadata": {},
     "output_type": "execute_result"
    }
   ],
   "source": [
    "dataset"
   ]
  },
  {
   "cell_type": "code",
   "execution_count": 13,
   "id": "a1be1847-725e-4ede-ba1c-4713269143be",
   "metadata": {},
   "outputs": [],
   "source": [
    "train_df=pd.DataFrame(dataset[\"train\"])\n",
    "test_df=pd.DataFrame(dataset[\"test\"])"
   ]
  },
  {
   "cell_type": "code",
   "execution_count": 14,
   "id": "c33a3a3f-cc48-4de4-ae03-8e7e3aa37503",
   "metadata": {},
   "outputs": [
    {
     "data": {
      "text/html": [
       "<div>\n",
       "<style scoped>\n",
       "    .dataframe tbody tr th:only-of-type {\n",
       "        vertical-align: middle;\n",
       "    }\n",
       "\n",
       "    .dataframe tbody tr th {\n",
       "        vertical-align: top;\n",
       "    }\n",
       "\n",
       "    .dataframe thead th {\n",
       "        text-align: right;\n",
       "    }\n",
       "</style>\n",
       "<table border=\"1\" class=\"dataframe\">\n",
       "  <thead>\n",
       "    <tr style=\"text-align: right;\">\n",
       "      <th></th>\n",
       "      <th>text</th>\n",
       "      <th>label</th>\n",
       "    </tr>\n",
       "  </thead>\n",
       "  <tbody>\n",
       "    <tr>\n",
       "      <th>0</th>\n",
       "      <td>the rock is destined to be the 21st century's ...</td>\n",
       "      <td>1</td>\n",
       "    </tr>\n",
       "    <tr>\n",
       "      <th>1</th>\n",
       "      <td>the gorgeously elaborate continuation of \" the...</td>\n",
       "      <td>1</td>\n",
       "    </tr>\n",
       "    <tr>\n",
       "      <th>2</th>\n",
       "      <td>effective but too-tepid biopic</td>\n",
       "      <td>1</td>\n",
       "    </tr>\n",
       "    <tr>\n",
       "      <th>3</th>\n",
       "      <td>if you sometimes like to go to the movies to h...</td>\n",
       "      <td>1</td>\n",
       "    </tr>\n",
       "    <tr>\n",
       "      <th>4</th>\n",
       "      <td>emerges as something rare , an issue movie tha...</td>\n",
       "      <td>1</td>\n",
       "    </tr>\n",
       "  </tbody>\n",
       "</table>\n",
       "</div>"
      ],
      "text/plain": [
       "                                                text  label\n",
       "0  the rock is destined to be the 21st century's ...      1\n",
       "1  the gorgeously elaborate continuation of \" the...      1\n",
       "2                     effective but too-tepid biopic      1\n",
       "3  if you sometimes like to go to the movies to h...      1\n",
       "4  emerges as something rare , an issue movie tha...      1"
      ]
     },
     "execution_count": 14,
     "metadata": {},
     "output_type": "execute_result"
    }
   ],
   "source": [
    "train_df.head()"
   ]
  },
  {
   "cell_type": "code",
   "execution_count": 15,
   "id": "919e97c1-f151-44aa-ac1a-65b241a392cf",
   "metadata": {},
   "outputs": [],
   "source": [
    "concat_df = pd.concat([train_df, test_df], ignore_index=True)"
   ]
  },
  {
   "cell_type": "code",
   "execution_count": 18,
   "id": "912af8a3-9a6c-4d3c-b966-f5e6019aac1b",
   "metadata": {},
   "outputs": [],
   "source": [
    "from IPython.core.interactiveshell import InteractiveShell\n",
    "InteractiveShell.ast_node_interactivity = \"all\""
   ]
  },
  {
   "cell_type": "code",
   "execution_count": 20,
   "id": "c503b624-adb0-438a-81f2-0abbc1862f0b",
   "metadata": {},
   "outputs": [
    {
     "data": {
      "text/plain": [
       "(8530, 2)"
      ]
     },
     "execution_count": 20,
     "metadata": {},
     "output_type": "execute_result"
    },
    {
     "data": {
      "text/plain": [
       "(1066, 2)"
      ]
     },
     "execution_count": 20,
     "metadata": {},
     "output_type": "execute_result"
    },
    {
     "data": {
      "text/plain": [
       "(9596, 2)"
      ]
     },
     "execution_count": 20,
     "metadata": {},
     "output_type": "execute_result"
    }
   ],
   "source": [
    "train_df.shape\n",
    "test_df.shape\n",
    "concat_df.shape"
   ]
  },
  {
   "cell_type": "code",
   "execution_count": 21,
   "id": "48c4fea5-b3e0-4df2-8fdc-06ce6915bff7",
   "metadata": {},
   "outputs": [
    {
     "data": {
      "text/html": [
       "<div>\n",
       "<style scoped>\n",
       "    .dataframe tbody tr th:only-of-type {\n",
       "        vertical-align: middle;\n",
       "    }\n",
       "\n",
       "    .dataframe tbody tr th {\n",
       "        vertical-align: top;\n",
       "    }\n",
       "\n",
       "    .dataframe thead th {\n",
       "        text-align: right;\n",
       "    }\n",
       "</style>\n",
       "<table border=\"1\" class=\"dataframe\">\n",
       "  <thead>\n",
       "    <tr style=\"text-align: right;\">\n",
       "      <th></th>\n",
       "      <th>text</th>\n",
       "      <th>label</th>\n",
       "    </tr>\n",
       "  </thead>\n",
       "  <tbody>\n",
       "    <tr>\n",
       "      <th>0</th>\n",
       "      <td>the rock is destined to be the 21st century's ...</td>\n",
       "      <td>1</td>\n",
       "    </tr>\n",
       "    <tr>\n",
       "      <th>1</th>\n",
       "      <td>the gorgeously elaborate continuation of \" the...</td>\n",
       "      <td>1</td>\n",
       "    </tr>\n",
       "    <tr>\n",
       "      <th>2</th>\n",
       "      <td>effective but too-tepid biopic</td>\n",
       "      <td>1</td>\n",
       "    </tr>\n",
       "    <tr>\n",
       "      <th>3</th>\n",
       "      <td>if you sometimes like to go to the movies to h...</td>\n",
       "      <td>1</td>\n",
       "    </tr>\n",
       "    <tr>\n",
       "      <th>4</th>\n",
       "      <td>emerges as something rare , an issue movie tha...</td>\n",
       "      <td>1</td>\n",
       "    </tr>\n",
       "  </tbody>\n",
       "</table>\n",
       "</div>"
      ],
      "text/plain": [
       "                                                text  label\n",
       "0  the rock is destined to be the 21st century's ...      1\n",
       "1  the gorgeously elaborate continuation of \" the...      1\n",
       "2                     effective but too-tepid biopic      1\n",
       "3  if you sometimes like to go to the movies to h...      1\n",
       "4  emerges as something rare , an issue movie tha...      1"
      ]
     },
     "execution_count": 21,
     "metadata": {},
     "output_type": "execute_result"
    }
   ],
   "source": [
    "concat_df.head()"
   ]
  },
  {
   "cell_type": "code",
   "execution_count": 22,
   "id": "eb15cbd4-dd09-411b-8755-a12a9223ae58",
   "metadata": {},
   "outputs": [],
   "source": [
    "#doing train test split\n",
    "import pandas as pd\n",
    "from sklearn.model_selection import train_test_split\n",
    "from sklearn.preprocessing import LabelEncoder\n",
    "\n",
    "X = concat_df['text']\n",
    "y = concat_df['label']\n",
    "X_train, X_test, y_train, y_test = train_test_split(X, y, test_size=0.2, random_state=42)"
   ]
  },
  {
   "cell_type": "code",
   "execution_count": 32,
   "id": "6d2f28d6-8f7a-4f8b-ab64-e9bfd41627f1",
   "metadata": {},
   "outputs": [
    {
     "name": "stderr",
     "output_type": "stream",
     "text": [
      "D:\\ProgramFiles\\Miniconda\\Lib\\site-packages\\keras\\src\\layers\\core\\embedding.py:90: UserWarning: Argument `input_length` is deprecated. Just remove it.\n",
      "  warnings.warn(\n"
     ]
    }
   ],
   "source": [
    "import tensorflow as tf\n",
    "from tensorflow.keras.models import Sequential\n",
    "from tensorflow.keras.layers import Embedding, LSTM, Dense, SpatialDropout1D\n",
    "from tensorflow.keras.preprocessing.text import Tokenizer\n",
    "from tensorflow.keras.preprocessing.sequence import pad_sequences\n",
    "\n",
    "from tensorflow.keras.preprocessing.text import Tokenizer\n",
    "from tensorflow.keras.preprocessing.sequence import pad_sequences\n",
    "\n",
    "tokenizer = Tokenizer(num_words=5000, lower=True, split=' ')\n",
    "tokenizer.fit_on_texts(X_train.values)\n",
    "X_train = tokenizer.texts_to_sequences(X_train.values)\n",
    "X_train = pad_sequences(X_train)\n",
    "X_test = tokenizer.texts_to_sequences(X_test.values)\n",
    "X_test = pad_sequences(X_test, maxlen=X_train.shape[1])\n",
    "\n",
    "vocab_size = len(tokenizer.word_index) + 1\n",
    "embedding_dim = 100\n",
    "input_length = X_train.shape[1]\n",
    "\n",
    "model = Sequential()\n",
    "model.add(Embedding(vocab_size, embedding_dim, input_length=input_length))\n",
    "model.add(SpatialDropout1D(0.2))\n",
    "model.add(LSTM(100, dropout=0.2, recurrent_dropout=0.2))\n",
    "model.add(Dense(1, activation='sigmoid'))\n",
    "model.compile(loss='binary_crossentropy', optimizer='adam', metrics=['accuracy'])"
   ]
  },
  {
   "cell_type": "code",
   "execution_count": 34,
   "id": "026ee930-6088-4447-9056-b1d9b8090c29",
   "metadata": {},
   "outputs": [
    {
     "name": "stdout",
     "output_type": "stream",
     "text": [
      "Epoch 1/30\n",
      "120/120 - 6s - 51ms/step - accuracy: 0.9406 - loss: 0.1585 - val_accuracy: 0.7536 - val_loss: 0.7386\n",
      "Epoch 2/30\n",
      "120/120 - 7s - 56ms/step - accuracy: 0.9527 - loss: 0.1259 - val_accuracy: 0.7422 - val_loss: 0.7687\n",
      "Epoch 3/30\n",
      "120/120 - 7s - 56ms/step - accuracy: 0.9639 - loss: 0.1018 - val_accuracy: 0.7464 - val_loss: 0.9730\n",
      "Epoch 4/30\n",
      "120/120 - 7s - 55ms/step - accuracy: 0.9633 - loss: 0.0923 - val_accuracy: 0.7391 - val_loss: 0.9497\n",
      "Epoch 5/30\n",
      "120/120 - 7s - 60ms/step - accuracy: 0.9767 - loss: 0.0699 - val_accuracy: 0.7427 - val_loss: 1.0662\n",
      "Epoch 6/30\n",
      "120/120 - 7s - 55ms/step - accuracy: 0.9808 - loss: 0.0523 - val_accuracy: 0.7333 - val_loss: 1.1673\n",
      "Epoch 7/30\n",
      "120/120 - 7s - 55ms/step - accuracy: 0.9861 - loss: 0.0434 - val_accuracy: 0.7385 - val_loss: 1.1750\n",
      "Epoch 8/30\n",
      "120/120 - 7s - 60ms/step - accuracy: 0.9874 - loss: 0.0375 - val_accuracy: 0.7323 - val_loss: 1.2242\n",
      "Epoch 9/30\n",
      "120/120 - 7s - 55ms/step - accuracy: 0.9871 - loss: 0.0372 - val_accuracy: 0.7359 - val_loss: 1.3546\n",
      "Epoch 10/30\n",
      "120/120 - 7s - 55ms/step - accuracy: 0.9904 - loss: 0.0301 - val_accuracy: 0.7370 - val_loss: 1.5218\n",
      "Epoch 11/30\n",
      "120/120 - 7s - 61ms/step - accuracy: 0.9891 - loss: 0.0334 - val_accuracy: 0.7302 - val_loss: 1.5372\n",
      "Epoch 12/30\n",
      "120/120 - 7s - 61ms/step - accuracy: 0.9904 - loss: 0.0309 - val_accuracy: 0.7328 - val_loss: 1.3988\n",
      "Epoch 13/30\n",
      "120/120 - 7s - 56ms/step - accuracy: 0.9910 - loss: 0.0257 - val_accuracy: 0.7286 - val_loss: 1.6286\n",
      "Epoch 14/30\n",
      "120/120 - 7s - 61ms/step - accuracy: 0.9934 - loss: 0.0198 - val_accuracy: 0.7318 - val_loss: 1.6229\n",
      "Epoch 15/30\n",
      "120/120 - 7s - 62ms/step - accuracy: 0.9935 - loss: 0.0224 - val_accuracy: 0.7318 - val_loss: 1.6818\n",
      "Epoch 16/30\n",
      "120/120 - 7s - 56ms/step - accuracy: 0.9931 - loss: 0.0229 - val_accuracy: 0.7391 - val_loss: 1.4964\n",
      "Epoch 17/30\n",
      "120/120 - 7s - 61ms/step - accuracy: 0.9948 - loss: 0.0154 - val_accuracy: 0.7385 - val_loss: 1.6623\n",
      "Epoch 18/30\n",
      "120/120 - 7s - 61ms/step - accuracy: 0.9957 - loss: 0.0141 - val_accuracy: 0.7406 - val_loss: 1.6156\n",
      "Epoch 19/30\n",
      "120/120 - 7s - 61ms/step - accuracy: 0.9960 - loss: 0.0112 - val_accuracy: 0.7422 - val_loss: 1.8399\n",
      "Epoch 20/30\n",
      "120/120 - 7s - 56ms/step - accuracy: 0.9954 - loss: 0.0117 - val_accuracy: 0.7370 - val_loss: 1.9158\n",
      "Epoch 21/30\n",
      "120/120 - 7s - 61ms/step - accuracy: 0.9945 - loss: 0.0166 - val_accuracy: 0.7333 - val_loss: 1.6671\n",
      "Epoch 22/30\n",
      "120/120 - 7s - 62ms/step - accuracy: 0.9948 - loss: 0.0165 - val_accuracy: 0.7354 - val_loss: 1.6833\n",
      "Epoch 23/30\n",
      "120/120 - 7s - 62ms/step - accuracy: 0.9936 - loss: 0.0185 - val_accuracy: 0.7333 - val_loss: 1.8213\n",
      "Epoch 24/30\n",
      "120/120 - 7s - 56ms/step - accuracy: 0.9958 - loss: 0.0123 - val_accuracy: 0.7333 - val_loss: 1.7180\n",
      "Epoch 25/30\n",
      "120/120 - 7s - 61ms/step - accuracy: 0.9964 - loss: 0.0113 - val_accuracy: 0.7349 - val_loss: 1.9255\n",
      "Epoch 26/30\n",
      "120/120 - 7s - 61ms/step - accuracy: 0.9988 - loss: 0.0061 - val_accuracy: 0.7302 - val_loss: 2.1781\n",
      "Epoch 27/30\n",
      "120/120 - 7s - 62ms/step - accuracy: 0.9954 - loss: 0.0144 - val_accuracy: 0.7354 - val_loss: 1.9445\n",
      "Epoch 28/30\n",
      "120/120 - 7s - 56ms/step - accuracy: 0.9967 - loss: 0.0100 - val_accuracy: 0.7411 - val_loss: 1.8758\n",
      "Epoch 29/30\n",
      "120/120 - 7s - 61ms/step - accuracy: 0.9974 - loss: 0.0083 - val_accuracy: 0.7302 - val_loss: 2.0342\n",
      "Epoch 30/30\n",
      "120/120 - 7s - 62ms/step - accuracy: 0.9965 - loss: 0.0111 - val_accuracy: 0.7344 - val_loss: 1.9024\n"
     ]
    },
    {
     "data": {
      "text/plain": [
       "<keras.src.callbacks.history.History at 0x206f4583080>"
      ]
     },
     "execution_count": 34,
     "metadata": {},
     "output_type": "execute_result"
    },
    {
     "name": "stderr",
     "output_type": "stream",
     "text": [
      "WARNING:absl:You are saving your model as an HDF5 file via `model.save()` or `keras.saving.save_model(model)`. This file format is considered legacy. We recommend using instead the native Keras format, e.g. `model.save('my_model.keras')` or `keras.saving.save_model(model, 'my_model.keras')`. \n"
     ]
    }
   ],
   "source": [
    "model.fit(X_train, y_train, epochs=30, batch_size=64, validation_data=(X_test, y_test), verbose=2)\n",
    "model.save('sentiment_model.h5')"
   ]
  },
  {
   "cell_type": "code",
   "execution_count": 41,
   "id": "7e4a1df6-7ab2-45ff-a7a6-ef8dd9b8069f",
   "metadata": {},
   "outputs": [
    {
     "name": "stderr",
     "output_type": "stream",
     "text": [
      "WARNING:absl:Compiled the loaded model, but the compiled metrics have yet to be built. `model.compile_metrics` will be empty until you train or evaluate the model.\n"
     ]
    },
    {
     "name": "stdout",
     "output_type": "stream",
     "text": [
      "WARNING:tensorflow:5 out of the last 5 calls to <function TensorFlowTrainer.make_predict_function.<locals>.one_step_on_data_distributed at 0x000002068024DF80> triggered tf.function retracing. Tracing is expensive and the excessive number of tracings could be due to (1) creating @tf.function repeatedly in a loop, (2) passing tensors with different shapes, (3) passing Python objects instead of tensors. For (1), please define your @tf.function outside of the loop. For (2), @tf.function has reduce_retracing=True option that can avoid unnecessary retracing. For (3), please refer to https://www.tensorflow.org/guide/function#controlling_retracing and https://www.tensorflow.org/api_docs/python/tf/function for  more details.\n"
     ]
    },
    {
     "name": "stderr",
     "output_type": "stream",
     "text": [
      "WARNING:tensorflow:5 out of the last 5 calls to <function TensorFlowTrainer.make_predict_function.<locals>.one_step_on_data_distributed at 0x000002068024DF80> triggered tf.function retracing. Tracing is expensive and the excessive number of tracings could be due to (1) creating @tf.function repeatedly in a loop, (2) passing tensors with different shapes, (3) passing Python objects instead of tensors. For (1), please define your @tf.function outside of the loop. For (2), @tf.function has reduce_retracing=True option that can avoid unnecessary retracing. For (3), please refer to https://www.tensorflow.org/guide/function#controlling_retracing and https://www.tensorflow.org/api_docs/python/tf/function for  more details.\n"
     ]
    },
    {
     "name": "stdout",
     "output_type": "stream",
     "text": [
      "\u001b[1m1/1\u001b[0m \u001b[32m━━━━━━━━━━━━━━━━━━━━\u001b[0m\u001b[37m\u001b[0m \u001b[1m0s\u001b[0m 204ms/step\n",
      "Sentiment: Positive\n"
     ]
    }
   ],
   "source": [
    "import numpy as np\n",
    "from tensorflow.keras.models import load_model\n",
    "from tensorflow.keras.preprocessing.sequence import pad_sequences\n",
    "from tensorflow.keras.preprocessing.text import Tokenizer\n",
    "from tensorflow.keras.models import load_model\n",
    "\n",
    "def predict_sentiment(text, model, tokenizer):\n",
    "    seq = tokenizer.texts_to_sequences([text])\n",
    "    padded = pad_sequences(seq, maxlen=200)\n",
    "    pred = model.predict(padded)\n",
    "    return \"Positive\" if pred > 0.5 else \"Negative\"\n",
    "\n",
    "model = load_model('./sentiment_model.h5')\n",
    "sample_text = \"I am positive!\"\n",
    "sentiment = predict_sentiment(sample_text, model, tokenizer)\n",
    "print(f'Sentiment: {sentiment}')"
   ]
  },
  {
   "cell_type": "code",
   "execution_count": null,
   "id": "80111068-6256-43db-ad75-76a29defcf7d",
   "metadata": {},
   "outputs": [],
   "source": []
  }
 ],
 "metadata": {
  "kernelspec": {
   "display_name": "Python 3 (ipykernel)",
   "language": "python",
   "name": "python3"
  },
  "language_info": {
   "codemirror_mode": {
    "name": "ipython",
    "version": 3
   },
   "file_extension": ".py",
   "mimetype": "text/x-python",
   "name": "python",
   "nbconvert_exporter": "python",
   "pygments_lexer": "ipython3",
   "version": "3.12.2"
  }
 },
 "nbformat": 4,
 "nbformat_minor": 5
}
